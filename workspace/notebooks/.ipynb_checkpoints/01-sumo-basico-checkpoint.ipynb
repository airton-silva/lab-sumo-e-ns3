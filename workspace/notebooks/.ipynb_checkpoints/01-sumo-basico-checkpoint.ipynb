{
 "cells": [
  {
   "cell_type": "code",
   "execution_count": null,
   "id": "acd75dd2",
   "metadata": {
    "vscode": {
     "languageId": "plaintext"
    }
   },
   "outputs": [],
   "source": [
    "import sumolib\n",
    "import traci\n",
    "import matplotlib.pyplot as plt\n",
    "\n",
    "# Exemplo de uso do SUMO via Python\n",
    "print(\"SUMO version:\", sumolib.version)\n",
    "\n",
    "# Criar rede simples\n",
    "net = sumolib.net.readNet('examples/sumo/hello-world.net.xml')\n",
    "print(\"Número de arestas:\", len(net.getEdges()))\n",
    "\n",
    "# Plotar rede\n",
    "fig, ax = plt.subplots(figsize=(10, 8))\n",
    "for edge in net.getEdges():\n",
    "    shape = edge.getShape()\n",
    "    x = [point[0] for point in shape]\n",
    "    y = [point[1] for point in shape]\n",
    "    ax.plot(x, y, 'b-', linewidth=1)\n",
    "    \n",
    "ax.set_title('Rede SUMO')\n",
    "plt.show()"
   ]
  }
 ],
 "metadata": {
  "language_info": {
   "name": "python"
  }
 },
 "nbformat": 4,
 "nbformat_minor": 5
}
